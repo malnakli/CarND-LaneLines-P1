{
 "cells": [
  {
   "cell_type": "code",
   "execution_count": 1,
   "metadata": {
    "collapsed": true
   },
   "outputs": [],
   "source": [
    "import matplotlib.pyplot as plt\n",
    "import matplotlib.image as mpimg\n",
    "import numpy as np\n",
    "import cv2\n",
    "import statistics\n",
    "import math\n",
    "import collections\n",
    "from moviepy.editor import VideoFileClip\n",
    "from IPython.display import HTML\n",
    "%matplotlib inline"
   ]
  },
  {
   "cell_type": "markdown",
   "metadata": {},
   "source": [
    "## Helper Functions"
   ]
  },
  {
   "cell_type": "code",
   "execution_count": 2,
   "metadata": {
    "collapsed": true
   },
   "outputs": [],
   "source": [
    "def grayscale(img):\n",
    "    return cv2.cvtColor(img, cv2.COLOR_RGB2GRAY)\n",
    "    # Or use BGR2GRAY if you read an image with cv2.imread()\n",
    "    # return cv2.cvtColor(img, cv2.COLOR_BGR2GRAY)\n",
    "def canny(img, low_threshold, high_threshold):\n",
    "    \"\"\"Applies the Canny transform\"\"\"\n",
    "    return cv2.Canny(img, low_threshold, high_threshold)\n",
    "def gaussian_blur(img, kernel_size):\n",
    "    \"\"\"Applies a Gaussian Noise kernel\"\"\"\n",
    "    return cv2.GaussianBlur(img, (kernel_size, kernel_size), 0)\n",
    "\n",
    "def region_of_interest(img, vertices):\n",
    "    \"\"\"\n",
    "    Applies an image mask.\n",
    "    \n",
    "    Only keeps the region of the image defined by the polygon\n",
    "    formed from `vertices`. The rest of the image is set to black.\n",
    "    \"\"\"\n",
    "    #defining a blank mask to start with\n",
    "    mask = np.zeros_like(img)   \n",
    "    \n",
    "    #defining a 3 channel or 1 channel color to fill the mask with depending on the input image\n",
    "    if len(img.shape) > 2:\n",
    "        channel_count = img.shape[2]  # i.e. 3 or 4 depending on your image\n",
    "        ignore_mask_color = (255,) * channel_count\n",
    "    else:\n",
    "        ignore_mask_color = 255\n",
    "        \n",
    "    #filling pixels inside the polygon defined by \"vertices\" with the fill color    \n",
    "    cv2.fillPoly(mask, vertices, ignore_mask_color)\n",
    "    \n",
    "    #returning the image only where mask pixels are nonzero\n",
    "    masked_image = cv2.bitwise_and(img, mask)\n",
    "    return masked_image\n",
    "\n",
    "\n",
    "def hough_lines(img, rho, theta, threshold, min_line_len, max_line_gap):\n",
    "    \"\"\"\n",
    "    `img` should be the output of a Canny transform.\n",
    "        \n",
    "    Returns an image with hough lines drawn.\n",
    "    \"\"\"\n",
    "    lines = cv2.HoughLinesP(img, rho, theta, threshold, np.array([]), minLineLength=min_line_len, maxLineGap=max_line_gap)\n",
    "    line_img = np.zeros((img.shape[0], img.shape[1], 3), dtype=np.uint8)\n",
    "    draw_lines(line_img, lines)\n",
    "    return line_img,lines\n",
    "\n",
    "\n",
    "def weighted_img(img, initial_img, α=0.8, β=1., λ=0.):\n",
    "    \"\"\"\n",
    "    `img` is the output of the hough_lines(), An image with lines drawn on it.\n",
    "    Should be a blank image (all black) with lines drawn on it.\n",
    "    \n",
    "    `initial_img` should be the image before any processing.\n",
    "    \n",
    "    The result image is computed as follows:\n",
    "    \n",
    "    initial_img * α + img * β + λ\n",
    "    NOTE: initial_img and img must be the same shape!\n",
    "    \"\"\"\n",
    "    return cv2.addWeighted(initial_img, α, img, β, λ)"
   ]
  },
  {
   "cell_type": "markdown",
   "metadata": {},
   "source": [
    "## Draw Lines"
   ]
  },
  {
   "cell_type": "code",
   "execution_count": 3,
   "metadata": {
    "collapsed": true
   },
   "outputs": [],
   "source": [
    "def draw_lines(img, lines, color=[255, 0, 0], thickness=5):\n",
    "  \n",
    "    left_line_info,right_line_info = averages_info(lines)\n",
    "    right_l = get_the_line(get_lines(lines,\n",
    "                              right_line_info['m_slope'],\n",
    "                              check_variance(right_line_info['v_slope']),\n",
    "                              right_line_info['x1s']))\n",
    "    \n",
    "    left_l = get_the_line(get_lines(lines,\n",
    "                              left_line_info['m_slope'],\n",
    "                              check_variance(left_line_info['v_slope']),\n",
    "                              left_line_info['x1s']),\n",
    "                         True)\n",
    "    \n",
    "\n",
    "    new_lines = [right_l,left_l]\n",
    "    \n",
    "    for line in lines:\n",
    "        for x1,y1,x2,y2 in line:\n",
    "            cv2.line(img, (x1, y1), (x2, y2), color, thickness)\n",
    "\n",
    "     \n",
    "\n",
    "def get_the_line(lines,left=False):\n",
    "    line = [[0,0,0,0]]\n",
    "    lines = sorted(lines)\n",
    "    if len(lines) > 1:\n",
    "        # first point and last one\n",
    "        line = [[\n",
    "            lines[0][0][0],\n",
    "            lines[0][0][1],\n",
    "            lines[-1][0][2],\n",
    "            lines[-1][0][3]\n",
    "                ]]\n",
    " \n",
    "    if len(line) > 0 and len(line[0]) > 3:\n",
    "        if left:\n",
    "            line = get_extend_l_line(line,average_slope(lines))\n",
    "        else:\n",
    "            line = get_extend_r_line(line,average_slope(lines))\n",
    "        \n",
    "    \n",
    "    return line\n",
    "\n",
    "\n",
    "\n",
    "def get_extend_l_line(line,avg_slope):\n",
    "    result_line = []\n",
    "    for x1,y1,x2,y2 in line:\n",
    "            if x2 != x1: \n",
    "                # extend the line to the bottom \n",
    "                y1 = 539 # image height\n",
    "                x1 =  -int(((y2-y1)/ avg_slope) - x2)\n",
    "                #  extend the line to top\n",
    "                y2 = 340\n",
    "                x2 = int(((y2-y1) / avg_slope) + x1)\n",
    "                result_line = [[x1,y1,x2,y2]]\n",
    "                \n",
    "    return result_line\n",
    "\n",
    "def get_extend_r_line(line,avg_slope):\n",
    "    result_line = []\n",
    "    for x1,y1,x2,y2 in line:\n",
    "            if x2 != x1: \n",
    "                # extend the line to the bottom \n",
    "                x1 = x1\n",
    "                y1 = y1\n",
    "                y2 = 539 # image height\n",
    "                x2 = int(((y2-y1) / avg_slope) + x1)\n",
    "                #  extend the line to top\n",
    "                y1 = 340\n",
    "                x1 =  -int(((y2-y1)/ avg_slope) - x2)\n",
    "                result_line = [[x1,y1,x2,y2]]\n",
    "\n",
    "                \n",
    "    return result_line\n",
    "\n",
    "    \n",
    "def get_lines(lines,ave_slope, ratio,x1_average):\n",
    "    re_lines = []\n",
    "    for line in lines:\n",
    "        for x1,y1,x2,y2 in line:\n",
    "            if x2 != x1 and not is_x1_destance_far_from_x1_average(x1,x1_average):\n",
    "                slope = ((y2-y1)/(x2-x1))\n",
    "                if ave_slope-ratio <= slope <= ave_slope+ratio:\n",
    "                    re_lines.append([[x1,y1,x2,y2]])\n",
    "    \n",
    "    return re_lines\n",
    "\n",
    "\n",
    "def is_x1_destance_far_from_x1_average(x1,x1_average):\n",
    "     return abs(x1 - x1_average) > 150\n",
    "    \n",
    "    \n",
    "\n",
    "# minimize the error if variance is too big\n",
    "def check_variance(variance):\n",
    "    if variance > .5:\n",
    "        return variance/2\n",
    "    elif variance < .1:\n",
    "        return .3\n",
    "    else:\n",
    "        return variance\n",
    "    \n",
    "def average_slope(lines):\n",
    "    avg_slope = []\n",
    "    for line in lines:\n",
    "        for x1,y1,x2,y2 in line:\n",
    "            if x2 != x1:\n",
    "                slope = ((y2-y1)/(x2-x1))\n",
    "                avg_slope.append(slope)\n",
    "                \n",
    "    if len(avg_slope) > 0:\n",
    "        return  statistics.mean(avg_slope)\n",
    "    \n",
    "    return 0\n",
    "                 \n",
    "    \n",
    "# find the average slop and x1 of right and left\n",
    "# asumation positve slop is right and negative slop is left.\n",
    "def averages_info(lines):\n",
    "    right = []\n",
    "    left = []\n",
    "    right_xs= []\n",
    "    left_xs= []\n",
    "    \n",
    "    for line in lines:\n",
    "        for x1,y1,x2,y2 in line:\n",
    "            if x2 != x1:\n",
    "                slope = ((y2-y1)/(x2-x1))\n",
    "                if(slope > 0.01):\n",
    "                    right.append(slope)\n",
    "                    right_xs.append(x1)\n",
    "                elif(slope < -0.01):\n",
    "                    left.append(slope)\n",
    "                    left_xs.append(x1)\n",
    "    \n",
    "    m_right = .5\n",
    "    v_right = 0.1\n",
    "    m_right_xs= 525\n",
    "    if len(right) > 1:\n",
    "        m_right = statistics.mean(right)\n",
    "        v_right = statistics.variance(right,m_right)    # to avoid recalculation the mean\n",
    "        m_right_xs = statistics.mean(right_xs)\n",
    "\n",
    "    v_left = 0.1\n",
    "    m_left = .5\n",
    "    m_left_xs = 425\n",
    "    if len(left) > 1:\n",
    "        m_left = statistics.mean(left)\n",
    "        v_left = statistics.variance(left,m_left)\n",
    "        m_left_xs = statistics.mean(left_xs)\n",
    "\n",
    "\n",
    "    return ({'m_slope':m_left,\n",
    "             'v_slope':v_left,\n",
    "             'x1s':m_left_xs\n",
    "            }, \n",
    "            {'m_slope':m_right,\n",
    "             'v_slope':v_right,\n",
    "             'x1s':m_right_xs\n",
    "            }\n",
    "           )"
   ]
  },
  {
   "cell_type": "markdown",
   "metadata": {},
   "source": [
    " ## Build a Lane Finding Pipeline\n",
    " "
   ]
  },
  {
   "cell_type": "code",
   "execution_count": 4,
   "metadata": {
    "collapsed": true
   },
   "outputs": [],
   "source": [
    "\n",
    "def process_image(image):\n",
    "    img_gry = grayscale(image)\n",
    "    kernel_size = 5\n",
    "    blur_gray = gaussian_blur(img_gry, kernel_size)\n",
    "    low_threshold = 50\n",
    "    high_threshold = 180\n",
    "    edges = canny(blur_gray,low_threshold,high_threshold)\n",
    "    imshape = image.shape\n",
    "    vertices = np.array([[(15,imshape[0]),\n",
    "                          (imshape[1]*.45, imshape[0]*.6), \n",
    "                          (imshape[1]*.55,  imshape[0]*.6), \n",
    "                          (imshape[1]-15,imshape[0])]], dtype=np.int32)\n",
    "    masked_edges = region_of_interest(edges,vertices)\n",
    "    rho = 2\n",
    "    theta = np.pi / 180\n",
    "    threshold = 15\n",
    "    min_line_length = 40\n",
    "    max_line_gap = 20\n",
    "    line_image,lines = hough_lines(masked_edges,rho,theta,threshold,min_line_length,max_line_gap)\n",
    "    wei_img = weighted_img(line_image,image)\n",
    "    return wei_img\n",
    "\n",
    "\n"
   ]
  },
  {
   "cell_type": "markdown",
   "metadata": {},
   "source": [
    "## Test"
   ]
  },
  {
   "cell_type": "code",
   "execution_count": null,
   "metadata": {},
   "outputs": [],
   "source": [
    "white_output = 'test_videos_output/solidWhiteRight2.mp4'\n",
    "clip1 = VideoFileClip(\"test_videos/solidWhiteRight.mp4\")\n",
    "white_clip = clip1.fl_image(process_image)\n",
    "%time white_clip.write_videofile(white_output, audio=False)\n"
   ]
  },
  {
   "cell_type": "code",
   "execution_count": null,
   "metadata": {},
   "outputs": [],
   "source": [
    "HTML(\"\"\"\n",
    "<video width=\"960\" height=\"540\" controls>\n",
    "  <source src=\"{0}\"> \n",
    "</video>\n",
    "\"\"\".format(white_output))"
   ]
  },
  {
   "cell_type": "code",
   "execution_count": null,
   "metadata": {},
   "outputs": [],
   "source": [
    "yellow_output = 'test_videos_output/solidYellowLeft.mp4'\n",
    "clip2 = VideoFileClip('test_videos/solidYellowLeft.mp4') #.subclip(0,5)\n",
    "yellow_clip = clip2.fl_image(process_image)\n",
    "%time yellow_clip.write_videofile(yellow_output, audio=False)"
   ]
  },
  {
   "cell_type": "code",
   "execution_count": null,
   "metadata": {},
   "outputs": [],
   "source": [
    "HTML(\"\"\"\n",
    "<video width=\"960\" height=\"540\" controls>\n",
    "  <source src=\"{0}\">\n",
    "</video>\n",
    "\"\"\".format(yellow_output))"
   ]
  },
  {
   "cell_type": "code",
   "execution_count": 5,
   "metadata": {},
   "outputs": [
    {
     "name": "stdout",
     "output_type": "stream",
     "text": [
      "[MoviePy] >>>> Building video test_videos_output/challenge.mp4\n",
      "[MoviePy] Writing video test_videos_output/challenge.mp4\n"
     ]
    },
    {
     "name": "stderr",
     "output_type": "stream",
     "text": [
      "100%|██████████| 251/251 [00:17<00:00, 13.95it/s]\n"
     ]
    },
    {
     "name": "stdout",
     "output_type": "stream",
     "text": [
      "[MoviePy] Done.\n",
      "[MoviePy] >>>> Video ready: test_videos_output/challenge.mp4 \n",
      "\n",
      "CPU times: user 8.14 s, sys: 2.38 s, total: 10.5 s\n",
      "Wall time: 20.1 s\n"
     ]
    }
   ],
   "source": [
    "challenge_output = 'test_videos_output/challenge.mp4'\n",
    "clip3 = VideoFileClip('test_videos/challenge.mp4')\n",
    "challenge_clip = clip3.fl_image(process_image)\n",
    "%time challenge_clip.write_videofile(challenge_output, audio=False)"
   ]
  },
  {
   "cell_type": "code",
   "execution_count": 6,
   "metadata": {},
   "outputs": [
    {
     "data": {
      "text/html": [
       "\n",
       "<video width=\"960\" height=\"540\" controls>\n",
       "  <source src=\"test_videos_output/challenge.mp4\">\n",
       "</video>\n"
      ],
      "text/plain": [
       "<IPython.core.display.HTML object>"
      ]
     },
     "execution_count": 6,
     "metadata": {},
     "output_type": "execute_result"
    }
   ],
   "source": [
    "HTML(\"\"\"\n",
    "<video width=\"960\" height=\"540\" controls>\n",
    "  <source src=\"{0}\">\n",
    "</video>\n",
    "\"\"\".format(challenge_output))"
   ]
  },
  {
   "cell_type": "code",
   "execution_count": null,
   "metadata": {
    "collapsed": true
   },
   "outputs": [],
   "source": []
  }
 ],
 "metadata": {
  "kernelspec": {
   "display_name": "Python 3",
   "language": "python",
   "name": "python3"
  },
  "language_info": {
   "codemirror_mode": {
    "name": "ipython",
    "version": 3
   },
   "file_extension": ".py",
   "mimetype": "text/x-python",
   "name": "python",
   "nbconvert_exporter": "python",
   "pygments_lexer": "ipython3",
   "version": "3.5.2"
  },
  "widgets": {
   "state": {},
   "version": "1.1.2"
  }
 },
 "nbformat": 4,
 "nbformat_minor": 2
}
